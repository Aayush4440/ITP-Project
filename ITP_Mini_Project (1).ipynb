{
 "cells": [
  {
   "cell_type": "markdown",
   "id": "dbd83e49",
   "metadata": {},
   "source": [
    "# Mini Project - Courier Management System"
   ]
  },
  {
   "cell_type": "code",
   "execution_count": 1,
   "id": "e3151ffc-307d-4345-956e-640cf5afad29",
   "metadata": {},
   "outputs": [],
   "source": [
    "from datetime import datetime\n",
    "import networkx as nx\n",
    "import numpy as np"
   ]
  },
  {
   "cell_type": "markdown",
   "id": "1ef6fe09",
   "metadata": {},
   "source": [
    "# Q1. Create a Dictionary of lists to store the information of shipments given in the table\n"
   ]
  },
  {
   "cell_type": "code",
   "execution_count": 2,
   "id": "6c0d6b5d",
   "metadata": {},
   "outputs": [],
   "source": [
    "shipments = {101: [1, 3, \"14-03-2020\", \"25-03-2020\", \"Area1\", \"Area6\", \"Delivered\", 198],\n",
    "             102: [4, 1, \"18-06-2020\", \"09-07-2020\", \"Area2\", \"Area4\", \"Delivered\", 275],\n",
    "             103: [2, 3, \"01-12-2020\", \"Null\", \"Area5\", \"Area1\", \"In-Transit\", 200],\n",
    "             104: [1, 5, \"23-06-2020\", \"25-06-2020\", \"Area1\", \"Area4\", \"Delivered\", 314],\n",
    "             105: [3, 4, \"29-08-2020\", \"10-09-2020\", \"Area5\", \"Area3\", \"Delivered\", 275],\n",
    "             106: [5, 2, \"28-06-2020\", \"Null\", \"Area3\", \"Area1\", \"In-Transit\", 270]}"
   ]
  },
  {
   "cell_type": "code",
   "execution_count": 3,
   "id": "3cfd6138",
   "metadata": {},
   "outputs": [
    {
     "data": {
      "text/plain": [
       "{101: [1, 3, '14-03-2020', '25-03-2020', 'Area1', 'Area6', 'Delivered', 198],\n",
       " 102: [4, 1, '18-06-2020', '09-07-2020', 'Area2', 'Area4', 'Delivered', 275],\n",
       " 103: [2, 3, '01-12-2020', 'Null', 'Area5', 'Area1', 'In-Transit', 200],\n",
       " 104: [1, 5, '23-06-2020', '25-06-2020', 'Area1', 'Area4', 'Delivered', 314],\n",
       " 105: [3, 4, '29-08-2020', '10-09-2020', 'Area5', 'Area3', 'Delivered', 275],\n",
       " 106: [5, 2, '28-06-2020', 'Null', 'Area3', 'Area1', 'In-Transit', 270]}"
      ]
     },
     "execution_count": 3,
     "metadata": {},
     "output_type": "execute_result"
    }
   ],
   "source": [
    "shipments"
   ]
  },
  {
   "cell_type": "markdown",
   "id": "3542d34e",
   "metadata": {},
   "source": [
    "\n",
    "# Q2. Create a Dictionary of to store the information of clients given in the table.\n",
    "\n"
   ]
  },
  {
   "cell_type": "code",
   "execution_count": 4,
   "id": "cf979543",
   "metadata": {},
   "outputs": [],
   "source": [
    "clients = {1: 'Phillip', 2: 'Omega III', 3: 'Ramya', 4: 'Romesh', 5: 'John'}"
   ]
  },
  {
   "cell_type": "code",
   "execution_count": 5,
   "id": "79b36a42",
   "metadata": {},
   "outputs": [
    {
     "data": {
      "text/plain": [
       "{1: 'Phillip', 2: 'Omega III', 3: 'Ramya', 4: 'Romesh', 5: 'John'}"
      ]
     },
     "execution_count": 5,
     "metadata": {},
     "output_type": "execute_result"
    }
   ],
   "source": [
    "clients"
   ]
  },
  {
   "cell_type": "markdown",
   "id": "505e00b4",
   "metadata": {},
   "source": [
    "# Q3. Write a code to replace client’s id with their respective name in shipment dictionary using a loop and dictionary comprehension\n",
    "\n"
   ]
  },
  {
   "cell_type": "code",
   "execution_count": 6,
   "id": "6edafaa6",
   "metadata": {},
   "outputs": [
    {
     "name": "stdout",
     "output_type": "stream",
     "text": [
      "Phillip\n",
      "Ramya\n",
      "Romesh\n",
      "Phillip\n",
      "Omega III\n",
      "Ramya\n",
      "Phillip\n",
      "John\n",
      "Ramya\n",
      "Romesh\n",
      "John\n",
      "Omega III\n"
     ]
    }
   ],
   "source": [
    "for i in shipments.keys():\n",
    "    for j in range(2):\n",
    "        if shipments[i][j] in clients.keys():\n",
    "            shipments[i][j] = clients[shipments[i][j]]\n",
    "        print(shipments[i][j])"
   ]
  },
  {
   "cell_type": "markdown",
   "id": "d3503737",
   "metadata": {},
   "source": [
    "# Q4. Print all shipment details that are sent by Phillip\n",
    "\n"
   ]
  },
  {
   "cell_type": "code",
   "execution_count": 7,
   "id": "9c00fe94",
   "metadata": {},
   "outputs": [
    {
     "data": {
      "text/plain": [
       "[['Phillip',\n",
       "  'Ramya',\n",
       "  '14-03-2020',\n",
       "  '25-03-2020',\n",
       "  'Area1',\n",
       "  'Area6',\n",
       "  'Delivered',\n",
       "  198],\n",
       " ['Phillip',\n",
       "  'John',\n",
       "  '23-06-2020',\n",
       "  '25-06-2020',\n",
       "  'Area1',\n",
       "  'Area4',\n",
       "  'Delivered',\n",
       "  314]]"
      ]
     },
     "execution_count": 7,
     "metadata": {},
     "output_type": "execute_result"
    }
   ],
   "source": [
    "[shipments[i] for i in shipments.keys() if shipments[i][0] == 'Phillip']"
   ]
  },
  {
   "cell_type": "markdown",
   "id": "6febd5af",
   "metadata": {},
   "source": [
    "# Q5. Print all shipment details that are received by Ramya\n",
    "\n"
   ]
  },
  {
   "cell_type": "code",
   "execution_count": 8,
   "id": "bf838ba2",
   "metadata": {},
   "outputs": [
    {
     "data": {
      "text/plain": [
       "[['Phillip',\n",
       "  'Ramya',\n",
       "  '14-03-2020',\n",
       "  '25-03-2020',\n",
       "  'Area1',\n",
       "  'Area6',\n",
       "  'Delivered',\n",
       "  198],\n",
       " ['Omega III',\n",
       "  'Ramya',\n",
       "  '01-12-2020',\n",
       "  'Null',\n",
       "  'Area5',\n",
       "  'Area1',\n",
       "  'In-Transit',\n",
       "  200]]"
      ]
     },
     "execution_count": 8,
     "metadata": {},
     "output_type": "execute_result"
    }
   ],
   "source": [
    "[shipments[i] for i in shipments.keys() if shipments[i][1] == 'Ramya']"
   ]
  },
  {
   "cell_type": "markdown",
   "id": "11c64b8e",
   "metadata": {},
   "source": [
    "# Q6. Print all shipments which are in 'In-Transit' status\n",
    "\n"
   ]
  },
  {
   "cell_type": "code",
   "execution_count": 9,
   "id": "ad1163e9",
   "metadata": {},
   "outputs": [
    {
     "data": {
      "text/plain": [
       "[['Omega III',\n",
       "  'Ramya',\n",
       "  '01-12-2020',\n",
       "  'Null',\n",
       "  'Area5',\n",
       "  'Area1',\n",
       "  'In-Transit',\n",
       "  200],\n",
       " ['John',\n",
       "  'Omega III',\n",
       "  '28-06-2020',\n",
       "  'Null',\n",
       "  'Area3',\n",
       "  'Area1',\n",
       "  'In-Transit',\n",
       "  270]]"
      ]
     },
     "execution_count": 9,
     "metadata": {},
     "output_type": "execute_result"
    }
   ],
   "source": [
    "[shipments[i] for i in shipments.keys() if shipments[i][-2] == 'In-Transit']"
   ]
  },
  {
   "cell_type": "markdown",
   "id": "931fcec0",
   "metadata": {},
   "source": [
    "# Q7. Print all shipments which are delivered within 7 days of courier Start date\n",
    "\n"
   ]
  },
  {
   "cell_type": "code",
   "execution_count": 10,
   "id": "04b629a0",
   "metadata": {},
   "outputs": [
    {
     "data": {
      "text/plain": [
       "[['Phillip',\n",
       "  'John',\n",
       "  '23-06-2020',\n",
       "  '25-06-2020',\n",
       "  'Area1',\n",
       "  'Area4',\n",
       "  'Delivered',\n",
       "  314]]"
      ]
     },
     "execution_count": 10,
     "metadata": {},
     "output_type": "execute_result"
    }
   ],
   "source": [
    "# def days_between(d1, d2):\n",
    "date_diff = lambda d1, d2: abs((datetime.strptime(d2, \"%d-%m-%Y\") - datetime.strptime(d1, \"%d-%m-%Y\")).days)\n",
    "[shipments[i] for i in shipments.keys() if shipments[i][-2] != 'In-Transit' if date_diff(shipments[i][2], shipments[i][3]) <= 7]"
   ]
  },
  {
   "cell_type": "markdown",
   "id": "5afe1dbd",
   "metadata": {},
   "source": [
    "# Q8. Print all shipments which are delivered after 15 days of courier start date or not yet been delivered.\n",
    "\n"
   ]
  },
  {
   "cell_type": "code",
   "execution_count": 11,
   "id": "a4dd263e",
   "metadata": {},
   "outputs": [
    {
     "data": {
      "text/plain": [
       "[['Romesh',\n",
       "  'Phillip',\n",
       "  '18-06-2020',\n",
       "  '09-07-2020',\n",
       "  'Area2',\n",
       "  'Area4',\n",
       "  'Delivered',\n",
       "  275],\n",
       " ['Omega III',\n",
       "  'Ramya',\n",
       "  '01-12-2020',\n",
       "  'Null',\n",
       "  'Area5',\n",
       "  'Area1',\n",
       "  'In-Transit',\n",
       "  200],\n",
       " ['John',\n",
       "  'Omega III',\n",
       "  '28-06-2020',\n",
       "  'Null',\n",
       "  'Area3',\n",
       "  'Area1',\n",
       "  'In-Transit',\n",
       "  270]]"
      ]
     },
     "execution_count": 11,
     "metadata": {},
     "output_type": "execute_result"
    }
   ],
   "source": [
    "date_diff = lambda d1, d2: abs((datetime.strptime(d2, \"%d-%m-%Y\") - datetime.strptime(d1, \"%d-%m-%Y\")).days)\n",
    "ship = []\n",
    "for i in shipments.keys():\n",
    "    if shipments[i][-2] == 'In-Transit':\n",
    "        ship.append(shipments[i])\n",
    "    elif shipments[i][-2] != 'In-Transit':\n",
    "        if date_diff(shipments[i][2], shipments[i][3]) > 15:\n",
    "            ship.append(shipments[i])\n",
    "ship"
   ]
  },
  {
   "cell_type": "markdown",
   "id": "eb8dc063",
   "metadata": {},
   "source": [
    "# Q 9. Write a function find_all_routes to display all possible routes from senders location to receivers location given in the dictionary for each shipment.¶\n"
   ]
  },
  {
   "cell_type": "code",
   "execution_count": 12,
   "id": "3e6a3e2d",
   "metadata": {},
   "outputs": [
    {
     "data": {
      "image/png": "[encoded data removed]",
      "text/plain": [
       "<Figure size 432x288 with 1 Axes>"
      ]
     },
     "metadata": {},
     "output_type": "display_data"
    }
   ],
   "source": [
    "def find_all_routes(A):\n",
    "    G = nx.from_numpy_matrix(np.array(A))\n",
    "    nx.draw_networkx(G, with_labels=True)\n",
    "\n",
    "\n",
    "A = [[0, 1, 0, 0, 0, 1],\n",
    "     [1, 0, 1, 1, 0, 0],\n",
    "     [0, 1, 0, 1, 0, 0],\n",
    "     [0, 1, 1, 0, 1, 0],\n",
    "     [0, 0, 0, 1, 0, 0],\n",
    "     [1, 0, 0, 0, 0, 0]]\n",
    "find_all_routes(A)"
   ]
  },
  {
   "cell_type": "code",
   "execution_count": 13,
   "id": "85ccf925-eb27-471c-9cf6-5d09c898310f",
   "metadata": {},
   "outputs": [
    {
     "name": "stdout",
     "output_type": "stream",
     "text": [
      "[2, 3]\n",
      "[2, 4, 3]\n"
     ]
    }
   ],
   "source": [
    "def find_all_routes(matrix, u, d, visited, path):\n",
    "    visited[u] = True\n",
    "    path.append(u+1)\n",
    "    if u == d:\n",
    "        print(path)\n",
    "    else:\n",
    "        for i in range(6):\n",
    "            if matrix[u][i] == 1 and (visited[i] != 1):\n",
    "                find_all_routes(matrix, i, d, visited, path)\n",
    "    path.pop()\n",
    "    visited[u] = False\n",
    "\n",
    "\n",
    "matrix = [[0, 1, 0, 0, 0, 1],\n",
    "          [1, 0, 1, 1, 0, 0],\n",
    "          [0, 1, 0, 1, 0, 0],\n",
    "          [0, 1, 1, 0, 1, 0],\n",
    "          [0, 0, 0, 1, 0, 0],\n",
    "          [1, 0, 0, 0, 0, 0]]\n",
    "visited = [False for i in range(6)]\n",
    "path = []\n",
    "find_all_routes(matrix, 1, 2, visited, path)"
   ]
  }
 ],
 "metadata": {
  "kernelspec": {
   "display_name": "Python 3 (ipykernel)",
   "language": "python",
   "name": "python3"
  },
  "language_info": {
   "codemirror_mode": {
    "name": "ipython",
    "version": 3
   },
   "file_extension": ".py",
   "mimetype": "text/x-python",
   "name": "python",
   "nbconvert_exporter": "python",
   "pygments_lexer": "ipython3",
   "version": "3.7.11"
  }
 },
 "nbformat": 4,
 "nbformat_minor": 5
}
